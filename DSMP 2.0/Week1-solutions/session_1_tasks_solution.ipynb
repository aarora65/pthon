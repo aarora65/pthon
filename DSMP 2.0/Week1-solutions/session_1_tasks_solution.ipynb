{
  "nbformat": 4,
  "nbformat_minor": 0,
  "metadata": {
    "colab": {
      "provenance": []
    },
    "kernelspec": {
      "name": "python3",
      "display_name": "Python 3"
    },
    "language_info": {
      "name": "python"
    }
  },
  "cells": [
    {
      "cell_type": "markdown",
      "source": [
        "# Task : Session 1\n",
        "Solve these questions own your own and try to test yourself what you have learned in the session.\n",
        "\n",
        "Happy Learning!"
      ],
      "metadata": {
        "id": "A05OG15VqOPF"
      }
    },
    {
      "cell_type": "markdown",
      "source": [
        "### Q1 :- Print the given strings as per stated format.\n",
        "\n",
        "**Given strings**:\n",
        "```\n",
        "\"Data\" \"Science\" \"Mentorship\" \"Program\"\n",
        "\"By\" \"CampusX\"\n",
        "```\n",
        "**Output**:\n",
        "```\n",
        "Data-Science-Mentorship-Program-started-By-CampusX\n",
        "```\n",
        "\n",
        "Concept- [Seperator and End]"
      ],
      "metadata": {
        "id": "2doIXf8bqe9_"
      }
    },
    {
      "cell_type": "code",
      "source": [
        "# Write your code here\n",
        "print(\"Data\",\"Science\",\"Mentorship\",\"Program\",sep='-',end='-started-')\n",
        "\n",
        "print(\"By\",\"CampusX\",sep='-')"
      ],
      "metadata": {
        "id": "-em6d3KErDtp",
        "colab": {
          "base_uri": "https://localhost:8080/"
        },
        "outputId": "ed8aee48-11dd-4aad-85f3-cadc3b65da3e"
      },
      "execution_count": 2,
      "outputs": [
        {
          "output_type": "stream",
          "name": "stdout",
          "text": [
            "Data-Science-Mentorship-Program-started-By-CampusX\n"
          ]
        }
      ]
    },
    {
      "cell_type": "markdown",
      "source": [
        "### Q2:- Write a program that will convert celsius value to fahrenheit."
      ],
      "metadata": {
        "id": "1KUpN7ZTrC3_"
      }
    },
    {
      "cell_type": "code",
      "source": [
        "# Write your code here\n",
        "#Formula to convert Celsius to farenhiet is===> F = C(9 ⁄ 5) + 32\n",
        "# Get the Input from the user for the temperature in Celcius and then convert the value to Farenhiet and Print\n",
        "user_input_celcius=float(input(\"Please Enter the Temperature that you want to convert in celsius\"))\n",
        "calculalted_value_in_farenhiet=user_input_celcius*(9/5) + 32\n",
        "print(f\"The Equivalent Temperature in Farenhiet={calculalted_value_in_farenhiet:.2f}F\")"
      ],
      "metadata": {
        "id": "yxKYhYQiqWfj",
        "colab": {
          "base_uri": "https://localhost:8080/"
        },
        "outputId": "1cd2b267-c691-4467-855f-45a671edfc97"
      },
      "execution_count": 3,
      "outputs": [
        {
          "output_type": "stream",
          "name": "stdout",
          "text": [
            "Please Enter the Temperature that you want to convert in celsius50\n",
            "The Equivalent Temperature in Farenhiet=122.00F\n"
          ]
        }
      ]
    },
    {
      "cell_type": "markdown",
      "source": [
        "**Better Way to code this would be as below. But I know that would be cover in later part of the course. Just wanted to try out for keeping my self engaged :)**"
      ],
      "metadata": {
        "id": "RTsdNHoYBcPD"
      }
    },
    {
      "cell_type": "code",
      "source": [
        "# Write your code here\n",
        "#Formula to convert Celsius to farenhiet is===> F = C(9 ⁄ 5) + 32\n",
        "# Get the Input from the user for the temperature in Celcius and then convert the value to Farenhiet and Print\n",
        "while True:\n",
        "    try:\n",
        "       value = value = float(input(\"Please Enter the Temperature that you want to convert in celsius\"))\n",
        "       calculalted_value_in_farenhiet=user_input_celcius*(9/5) + 32\n",
        "       print(f\"The Equivalent Temperature in Farenhiet={calculalted_value_in_farenhiet:.2f}F\")\n",
        "       print(\"Keep Learning Have a Good Day\")\n",
        "       break\n",
        "    except ValueError:\n",
        "       print(\"Please Enter Valid temperature value\")\n",
        "       continue"
      ],
      "metadata": {
        "colab": {
          "base_uri": "https://localhost:8080/"
        },
        "id": "5owrjXScBaNg",
        "outputId": "12621597-2d4d-485c-fd8e-297c6a71d2e6"
      },
      "execution_count": 5,
      "outputs": [
        {
          "output_type": "stream",
          "name": "stdout",
          "text": [
            "Please Enter the Temperature that you want to convert in celsius50\n",
            "The Equivalent Temperature in Farenhiet=122.00F\n",
            "Keep Learning Have a Good Day\n"
          ]
        }
      ]
    },
    {
      "cell_type": "markdown",
      "source": [
        "### Q3:- Take 2 numbers as input from the user.Write a program to swap the numbers without using any special python syntax."
      ],
      "metadata": {
        "id": "RLrOBBJurLB2"
      }
    },
    {
      "cell_type": "code",
      "source": [
        "# Write your code here\n",
        "# Take two numbers number_one and number_two as input\n",
        "# Take another variable and swap using that.\n",
        "number_one=float(input(\"Enter the number 1=\"))\n",
        "number_two=float(input(\"Enter the number 2=\"))\n",
        "print(\"We will gonna Swap these two numbers now\")\n",
        "temporary_bucket=None\n",
        "temporary_bucket=number_one\n",
        "number_one=number_two\n",
        "number_two=temporary_bucket\n",
        "temporary_bucket=None\n",
        "print(\"Swapping is completed\")\n",
        "print(f\"Value of number 1 after Swapping is= {number_one}\")\n",
        "print(f\"Value of number 2 after Swapping is= {number_two}\")\n",
        "print(\"Keep Learning Have a Good Day\")"
      ],
      "metadata": {
        "id": "yPn7if0TrJ4F",
        "colab": {
          "base_uri": "https://localhost:8080/"
        },
        "outputId": "e13d0628-b48d-4bfb-c799-f262d7888ebb"
      },
      "execution_count": 24,
      "outputs": [
        {
          "output_type": "stream",
          "name": "stdout",
          "text": [
            "Enter the number 1=30\n",
            "Enter the number 2=40\n",
            "We will gonna Swap these two numbers now\n",
            "Swapping is completed\n",
            "Value of number 1 after Swapping is= 40.0\n",
            "Value of number 2 after Swapping is= 30.0\n",
            "Keep Learning Have a Good Day\n"
          ]
        }
      ]
    },
    {
      "cell_type": "markdown",
      "source": [
        "Another Way to do would be with any special python syntax"
      ],
      "metadata": {
        "id": "On2hF2OMGheP"
      }
    },
    {
      "cell_type": "code",
      "source": [
        "# Write your code here\n",
        "# Take two numbers number_one and number_two as input\n",
        "# Do not Take another variable\n",
        "number_one=float(input(\"Enter the number 1=\"))\n",
        "number_two=float(input(\"Enter the number 2=\"))\n",
        "print(\"We will gonna Swap these two numbers now\")\n",
        "number_one=number_one + number_two\n",
        "number_two=number_one - number_two\n",
        "number_one=number_one - number_two\n",
        "print(\"Swapping is completed\")\n",
        "print(f\"Value of number 1 after Swapping is= {number_one}\")\n",
        "print(f\"Value of number 2 after Swapping is= {number_two}\")\n",
        "print(\"Keep Learning Have a Good Day\")"
      ],
      "metadata": {
        "colab": {
          "base_uri": "https://localhost:8080/"
        },
        "id": "JwDciB2nGqKw",
        "outputId": "04e5ea8f-c4fc-46fd-fc9e-6e475a2ef88d"
      },
      "execution_count": 25,
      "outputs": [
        {
          "output_type": "stream",
          "name": "stdout",
          "text": [
            "Enter the number 1=30\n",
            "Enter the number 2=20\n",
            "We will gonna Swap these two numbers now\n",
            "Swapping is completed\n",
            "Value of number 1 after Swapping is= 20.0\n",
            "Value of number 2 after Swapping is= 30.0\n",
            "Keep Learning Have a Good Day\n"
          ]
        }
      ]
    },
    {
      "cell_type": "markdown",
      "source": [
        "### Q4:- Write a program to find the euclidean distance between two coordinates.Take both the coordinates from the user as input."
      ],
      "metadata": {
        "id": "waLCP1bjr7ML"
      }
    },
    {
      "cell_type": "code",
      "source": [
        "# Write your code here\n",
        "from math import sqrt\n",
        "x1=int(input(\"Enter the Point 1 of X Axis=\"))\n",
        "x2=int(input(\"Enter the Point 2 of X Axis=\"))\n",
        "y1=int(input(\"Enter the Point 1 of Y Axis=\"))\n",
        "y2=int(input(\"Enter the Point 2 of Y Axis=\"))\n",
        "# Folrmula for Euclidean Distance is = sqrt((x2-x1)^2 + (y2-y1)^2)\n",
        "print(\"We will gonna calculate the Euclidean Distance Now\")\n",
        "euclidean_dist=sqrt((x2-x1)**2 + (y2-y1)**2)\n",
        "print(\"Euclidean Distance calculation is completed\")\n",
        "print(f\"Euclidean Distance between two coordinates is= {euclidean_dist:.2f}\")\n",
        "print(\"Keep Learning Have a Good Day\")"
      ],
      "metadata": {
        "id": "Pl1Sv-xnrxnH",
        "colab": {
          "base_uri": "https://localhost:8080/"
        },
        "outputId": "9dda6323-ca65-4767-c155-c51ecf8f0502"
      },
      "execution_count": 30,
      "outputs": [
        {
          "output_type": "stream",
          "name": "stdout",
          "text": [
            "Enter the Point 1 of X Axis=5\n",
            "Enter the Point 2 of X Axis=9\n",
            "Enter the Point 1 of Y Axis=11\n",
            "Enter the Point 2 of Y Axis=30\n",
            "We will gonna calculate the Euclidean Distance Now\n",
            "Euclidean Distance calculation is completed\n",
            "Euclidean Distance between two coordinates is= 4.36\n",
            "Keep Learning Have a Good Day\n"
          ]
        }
      ]
    },
    {
      "cell_type": "markdown",
      "source": [
        "### Q5:- Write a program to find the simple interest when the value of principle,rate of interest and time period is provided by the user.\n"
      ],
      "metadata": {
        "id": "VLrhg-FRsHjR"
      }
    },
    {
      "cell_type": "code",
      "source": [
        "# Write your code here\n",
        "#SI = (P × R × T)/100, where P = Principal, R = Rate of Interest, and T = Time period.\n",
        "principal=float(input(\"Enter the Principal=\"))\n",
        "rate_of_interest=float(input(\"Enter the Rate of Interest=\"))\n",
        "time_period=float(input(\"Enter the Rate of Time period=\"))\n",
        "print(\"We will gonna calculate the Simple Interest Now\")\n",
        "simple_interest = (principal * rate_of_interest * time_period)/100\n",
        "print(\"Simple Interest calculation is completed\")\n",
        "print(f\"Simple Interest is= {simple_interest:.2f}\")\n",
        "print(\"Keep Learning Have a Good Day\")\n"
      ],
      "metadata": {
        "id": "s40DlReZsTmY",
        "colab": {
          "base_uri": "https://localhost:8080/"
        },
        "outputId": "8d155b87-cf37-4f1c-aa45-4ddcaeee7aef"
      },
      "execution_count": 48,
      "outputs": [
        {
          "output_type": "stream",
          "name": "stdout",
          "text": [
            "Enter the Principal=10000\n",
            "Enter the Rate of Interest=2\n",
            "Enter the Rate of Time period=1\n",
            "We will gonna calculate the Simple Interest Now\n",
            "Simple Interest calculation is completed\n",
            "Simple Interest is= 200.00\n",
            "Keep Learning Have a Good Day\n"
          ]
        }
      ]
    },
    {
      "cell_type": "markdown",
      "source": [
        "### Q6:- Write a program that will tell the number of dogs and chicken are there when the user will provide the value of total heads and legs.\n",
        "\n",
        "For example:\n",
        "Input:\n",
        "heads -> 4\n",
        "legs -> 12\n",
        "<br>\n",
        "Output:\n",
        "dogs -> 2\n",
        "chicken -> 2\n",
        "\n",
        "\n",
        "\n"
      ],
      "metadata": {
        "id": "LMy0BTUktYKa"
      }
    },
    {
      "cell_type": "code",
      "source": [
        "# Write your code here\n",
        "# Chicken has one head and two legs and Dog has one head and 4 legs. Number of legs should awalys be equal to:\n",
        "# total number of legs =total number of heads\n",
        "# This is a good question among rest of the others questions in this assignment\n",
        "# num_dogs + num_chickens = total_input_heads ---> EQ(1)\n",
        "# 4 * num_dogs + 2 * num_chickens = total_input_legs\n",
        "# num_dogs = (total_input_legs - 2 * total_input_heads ) / 2---> Value #1\n",
        "# num_chickens = total_input_heads  - num_dogs  ---> Value #2\n",
        "\n",
        "total_input_heads = int(input(\"Enter Total number of heads:\"))\n",
        "total_input_legs = int(input(\"Enter Total number of legs:\"))\n",
        "num_dogs = (total_input_legs - 2 * total_input_heads ) / 2\n",
        "num_chickens = total_input_heads  - num_dogs\n",
        "print(f\"Total number of dogs is = {num_dogs} and Total number of chockens is = {num_chickens}\")\n",
        "\n"
      ],
      "metadata": {
        "id": "XSBvJoA4tXaG",
        "colab": {
          "base_uri": "https://localhost:8080/"
        },
        "outputId": "79a88d00-7832-43c3-fc20-ffb4657e22f9"
      },
      "execution_count": 6,
      "outputs": [
        {
          "output_type": "stream",
          "name": "stdout",
          "text": [
            "Enter Total number of heads:4\n",
            "Enter Total number of legs:12\n",
            "Total number of dogs is = 2.0 and Total number of chockens is = 2.0\n"
          ]
        }
      ]
    },
    {
      "cell_type": "markdown",
      "source": [
        "### Q7:- Write a program to find the sum of squares of first n natural numbers where n will be provided by the user."
      ],
      "metadata": {
        "id": "gJ7C5kZYt4BP"
      }
    },
    {
      "cell_type": "code",
      "source": [
        "# Write your code here\n",
        "# Formula is [n(n+1)(2n+1)] / 6\n",
        "n=int(input(\"Enter Value of N:\"))\n",
        "sum=(n*(n+1)*(2*n+1)) / 6\n",
        "print(f\"The Total sum is:{sum}\")"
      ],
      "metadata": {
        "id": "_tHsmEHzt2nX",
        "colab": {
          "base_uri": "https://localhost:8080/"
        },
        "outputId": "32178dbf-3fd4-4fc9-8695-d8af1ba0adcf"
      },
      "execution_count": 42,
      "outputs": [
        {
          "output_type": "stream",
          "name": "stdout",
          "text": [
            "Enter Value of N:6\n",
            "The Total sum is:91.0\n"
          ]
        }
      ]
    },
    {
      "cell_type": "markdown",
      "source": [
        "### Q8:- Given the first 2 terms of an Arithmetic Series.Find the Nth term of the series. Assume all inputs are provided by the user."
      ],
      "metadata": {
        "id": "FHrMM7g-yG1h"
      }
    },
    {
      "cell_type": "code",
      "source": [
        "# Write your code here\n",
        "#Formula to find the nth term given first and second term only is an=a1+(n−1)d\n",
        "# for example if we are give a1=10 and a2=16 and we have to calculate a20 that will be equal = 10 + (16-10)*(20-1)\n",
        "term_1=float(input(\"Enter first term of the Arithmetic Series:\"))\n",
        "term_2=float(input(\"Enter second term of the Arithmetic Series:\"))\n",
        "term_to_calculate=int(input(\"Enter the term that needs to be calculated for the Arithmetic Series:\"))\n",
        "final_value= term_1 +((term_2 - term_1) *(term_to_calculate - 1))\n",
        "print(f\"The {term_to_calculate}th of the Arithmetic Series is ={final_value:.2f}\")"
      ],
      "metadata": {
        "id": "go4_kmZmyVSx",
        "colab": {
          "base_uri": "https://localhost:8080/"
        },
        "outputId": "8b133ee6-4bc3-41d1-84b2-5b5eb17fcd7f"
      },
      "execution_count": 39,
      "outputs": [
        {
          "output_type": "stream",
          "name": "stdout",
          "text": [
            "Enter first term of the Arithmetic Series:5\n",
            "Enter second term of the Arithmetic Series:8\n",
            "Enter the term that needs to be calculated for the Arithmetic Series:27\n",
            "The 27th of the Arithmetic Series is =83.00\n"
          ]
        }
      ]
    },
    {
      "cell_type": "markdown",
      "source": [
        "### Q9:- Given 2 fractions, find the sum of those 2 fractions.Take the numerator and denominator values of the fractions from the user."
      ],
      "metadata": {
        "id": "QgyRX_es1oum"
      }
    },
    {
      "cell_type": "code",
      "source": [
        "# Write your code here\n",
        "#Get the numerator and Denominator and then add them individually\n",
        "numerator_1=int(input(\"Enter the Numerator Value of Fraction#1=\"))\n",
        "denominator_1=int(input(\"Enter the Denominator value of Fraction#1=\"))\n",
        "numerator_2=int(input(\"Enter the Numerator Value of Fraction#2=\"))\n",
        "denominator_2=int(input(\"Enter the Denominator value of Fraction#2=\"))\n",
        "print(f\"Sum of the two fraction is {numerator_1+numerator_2}/{denominator_1+denominator_2}\")\n",
        "print(\"Keep Learning Have a Good Day\")"
      ],
      "metadata": {
        "id": "X05xqFS1yW16",
        "colab": {
          "base_uri": "https://localhost:8080/"
        },
        "outputId": "50a280c9-4e66-4b10-c8c9-67885c2b4951"
      },
      "execution_count": 37,
      "outputs": [
        {
          "output_type": "stream",
          "name": "stdout",
          "text": [
            "Enter the Numerator Value of Fraction#1=5\n",
            "Enter the Denominator value of Fraction#1=15\n",
            "Enter the Numerator Value of Fraction#2=6\n",
            "Enter the Denominator value of Fraction#2=17\n",
            "Sum of the two fraction is 11/32\n",
            "Keep Learning Have a Good Day\n"
          ]
        }
      ]
    },
    {
      "cell_type": "markdown",
      "source": [
        "### Q10:- Given the height, width and breadth of a milk tank, you have to find out how many glasses of milk can be obtained? Assume all the inputs are provided by the user.\n",
        "\n",
        "\n",
        "\n",
        "Input:<br>\n",
        "Dimensions of the milk tank<br>\n",
        "H = 20cm, L = 20cm, B = 20cm\n",
        "<br><br>\n",
        "Dimensions of the glass<br>\n",
        "h = 3cm, r = 1cm"
      ],
      "metadata": {
        "id": "eaql38ln13u7"
      }
    },
    {
      "cell_type": "code",
      "source": [
        "# Write your code here\n",
        "#volume of glass is Pi r^2 h\n",
        "#volume of a tank is Volume = Length × Width × Height\n",
        "#FInal Answer = Volume of Tank/Volume of glass '\n",
        "from math import pi\n",
        "mt_length=float(input(\"Enter the length of the Milk Tank=\"))\n",
        "mt_breadth=float(input(\"Enter the breadth of the Milk Tank=\"))\n",
        "mt_height=float(input(\"Enter the height of the Milk Tank=\"))\n",
        "glass_height=float(input(\"Enter the height of the Glass=\"))\n",
        "glass_radius=float(input(\"Enter the radius of the Glass=\"))\n",
        "volume_mt = mt_length * mt_length * glass_height\n",
        "volume_glass= pi * glass_radius ** 2 * glass_height\n",
        "total_number_of_glasses = volume_mt/volume_glass\n",
        "print(f\"Total Number of glasses a Milk tank can have is= {total_number_of_glasses:.2f}\")\n",
        "print(\"Keep Learning Have a Good Day\")"
      ],
      "metadata": {
        "id": "FePZqno74eWv",
        "colab": {
          "base_uri": "https://localhost:8080/"
        },
        "outputId": "4bc203db-12f6-4bcc-ce51-45aadc0e6934"
      },
      "execution_count": 36,
      "outputs": [
        {
          "output_type": "stream",
          "name": "stdout",
          "text": [
            "Enter the length of the Milk Tank=100\n",
            "Enter the breadth of the Milk Tank=200\n",
            "Enter the height of the Milk Tank=500\n",
            "Enter the height of the Glass=5\n",
            "Enter the radius of the Glass=2.5\n",
            "Total Number of glasses a Milk tank can have is= 509.30\n",
            "Keep Learning Have a Good Day\n"
          ]
        }
      ]
    }
  ]
}