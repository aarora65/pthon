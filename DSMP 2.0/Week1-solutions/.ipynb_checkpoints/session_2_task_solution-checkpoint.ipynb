{
 "cells": [
  {
   "cell_type": "markdown",
   "metadata": {
    "id": "w6RlOAXV2PWh"
   },
   "source": [
    "### `Problem 1`: Write a program that will give you in hand monthly salary after deduction on CTC - HRA(10%), DA(5%), PF(3%) and taxes deduction as below:\n",
    "\n",
    "> Salary(Lakhs) : Tax(%)\n",
    "\n",
    "*   Below 5 : 0%\n",
    "*   5-10 : 10%\n",
    "*   10-20 : 20%\n",
    "*   aboove 20 : 30%"
   ]
  },
  {
   "cell_type": "code",
   "execution_count": 1,
   "metadata": {
    "id": "7tMHvKYO2etI"
   },
   "outputs": [
    {
     "name": "stdin",
     "output_type": "stream",
     "text": [
      "Enter the Annual Input Salary in Rupees 100000\n"
     ]
    },
    {
     "name": "stdout",
     "output_type": "stream",
     "text": [
      "Annual Salary after tax deduction is: 100000.00\n",
      "Monthly Salary before before HRA,PF and DA is: 8333.33\n",
      "The in hand monthly salary after deduction on CTC is =6833.33\n"
     ]
    }
   ],
   "source": [
    "# Write code here\n",
    "annual_salary = float(input(\"Enter the Annual Input Salary in Rupees\"))\n",
    "if annual_salary >= 2000000:\n",
    "    annual_salary = annual_salary - 0.3 * annual_salary\n",
    "elif annual_salary >= 1000000 and  annual_salary < 2000000:\n",
    "    annual_salary = annual_salary - 0.2 * annual_salary\n",
    "elif annual_salary >= 500000 and  annual_salary < 1000000:   \n",
    "    annual_salary = annual_salary - 0.1 * annual_salary\n",
    "else :\n",
    "    pass\n",
    "print(f\"Annual Salary after tax deduction is: {annual_salary:.2F}\")\n",
    "monthly_salary = (annual_salary)/12\n",
    "print(f\"Monthly Salary before before HRA,PF and DA is: {monthly_salary:.2F}\")\n",
    "inhand_monthly_salary = monthly_salary - .18 * monthly_salary\n",
    "print(f\"The in hand monthly salary after deduction on CTC is ={inhand_monthly_salary:.2F}\")"
   ]
  },
  {
   "cell_type": "markdown",
   "metadata": {
    "id": "tYzCGqwl2hfN"
   },
   "source": [
    "### `Problem 2`: Write a program that take a user input of three angles and will find out whether it can form a triangle or not."
   ]
  },
  {
   "cell_type": "code",
   "execution_count": 13,
   "metadata": {
    "id": "FYEqln-I2kxV"
   },
   "outputs": [
    {
     "name": "stdin",
     "output_type": "stream",
     "text": [
      "Enter the First angle 60\n",
      "Enter the Second angle 60\n",
      "Enter the Third angle 60\n"
     ]
    },
    {
     "name": "stdout",
     "output_type": "stream",
     "text": [
      "The Triangle can be formed\n"
     ]
    }
   ],
   "source": [
    "# Write code here\n",
    "# Sum all off the 3 angles should be greater than 180 and a> 0 and b > 0 and c > 0\n",
    "a= int(input(\"Enter the First angle\"))\n",
    "b= int(input(\"Enter the Second angle\"))\n",
    "c= int(input(\"Enter the Third angle\"))\n",
    "if a+b+c == 180 and a > 0 and b > 0 and c > 0:\n",
    "    print(\"The Triangle can be formed\")\n",
    "else:\n",
    "    print(\"The Triangle cannot be formed\")"
   ]
  },
  {
   "cell_type": "code",
   "execution_count": null,
   "metadata": {},
   "outputs": [],
   "source": [
    "#All you have to do is use the Triangle Inequality Theorem, which states that the sum of two side lengths of a triangle is always \n",
    "#greater than the third side. \n",
    "#If this is true for all three combinations of added side lengths, then you will have a triangle\n",
    "# a + b > c and a + c > b and b+c > a\n",
    "a= int(input(\"Enter the First Side length\"))\n",
    "b= int(input(\"Enter the Second Side length\"))\n",
    "c= int(input(\"Enter the Third Side length\"))\n",
    "if (a + b > c) and (a + c > b) and (b + c > a):\n",
    "    print(\"The Triangle can be formed\")\n",
    "else:\n",
    "    print(\"The Triangle cannot be formed\")"
   ]
  },
  {
   "cell_type": "markdown",
   "metadata": {
    "id": "5vEpPh8C2pE4"
   },
   "source": [
    "### `Problem 3`: Write a program that will take user input of cost price and selling price and determines whether its a loss or a profit."
   ]
  },
  {
   "cell_type": "code",
   "execution_count": 8,
   "metadata": {
    "id": "jDwBXlkO2sfl"
   },
   "outputs": [
    {
     "name": "stdin",
     "output_type": "stream",
     "text": [
      "Enter the Cost Price in Rupees 10\n",
      "Enter the Selling Price in Rupees 10\n"
     ]
    },
    {
     "name": "stdout",
     "output_type": "stream",
     "text": [
      "No Profit No Loss\n"
     ]
    }
   ],
   "source": [
    "# Write code here\n",
    "cp = float(input(\"Enter the Cost Price in Rupees\"))\n",
    "sp = float(input(\"Enter the Selling Price in Rupees\"))\n",
    "if cp > sp:\n",
    "    print(\"You got a loss\")\n",
    "elif cp < sp:\n",
    "    print(\"You got a Profit\")\n",
    "else:\n",
    "    print(\"No Profit No Loss\")"
   ]
  },
  {
   "cell_type": "markdown",
   "metadata": {
    "id": "J_FG_cJW2ugT"
   },
   "source": [
    "### `Problem 4`: Write a menu-driven program -\n",
    "1. cm to ft\n",
    "2. km to miles\n",
    "3. USD to INR\n",
    "4. exit"
   ]
  },
  {
   "cell_type": "code",
   "execution_count": 2,
   "metadata": {
    "id": "yBHhaCGQ2zpD"
   },
   "outputs": [
    {
     "name": "stdin",
     "output_type": "stream",
     "text": [
      "\n",
      "Hi Select an option below:\n",
      "1. cm to ft\n",
      "2. km to miles\n",
      "3. USD to INR\n",
      "exit\n",
      " 2\n",
      "Enter the distance in miles 40\n"
     ]
    },
    {
     "name": "stdout",
     "output_type": "stream",
     "text": [
      "The length in cm is:2.56 km\n"
     ]
    }
   ],
   "source": [
    "# Write code here\n",
    "menu = input(\"\"\"\n",
    "Hi Select an option below:\n",
    "1. cm to ft\n",
    "2. km to miles\n",
    "3. USD to INR\n",
    "exit\n",
    "\"\"\")\n",
    "if menu == '1':\n",
    "    ft=float(input(\"Enter the length in ft\"))\n",
    "    print(f\"The length in cm is:{0.032*ft:.2F} cm\")\n",
    "elif menu == '2':\n",
    "    miles=float(input(\"Enter the distance in miles\"))\n",
    "    print(f\"The length in cm is:{0.064*miles:.2F} km\")\n",
    "elif menu == '3':\n",
    "    usd=float(input(\"Enter the Currency in USD\"))\n",
    "    print(f\"The Equivalent amount in Rupess is:{80*usd:.2F} Rs\")\n",
    "else:\n",
    "    exit()\n",
    "    "
   ]
  },
  {
   "cell_type": "markdown",
   "metadata": {
    "id": "LJJ30_Yw27ZU"
   },
   "source": [
    "### `Problem 5` - Exercise 12: Display Fibonacci series up to 10 terms.\n",
    "\n",
    "*Note: The Fibonacci Sequence is a series of numbers. The next number is found by adding up the two numbers before it. The first two numbers are 0 and 1. For example, 0, 1, 1, 2, 3, 5, 8, 13, 21. The next number in this series above is 13+21 = 34*"
   ]
  },
  {
   "cell_type": "code",
   "execution_count": 5,
   "metadata": {
    "id": "ae_1rpe52-5R"
   },
   "outputs": [
    {
     "name": "stdin",
     "output_type": "stream",
     "text": [
      "Enter the total number of terms to Print 4\n"
     ]
    },
    {
     "name": "stdout",
     "output_type": "stream",
     "text": [
      "0,1,1,2"
     ]
    }
   ],
   "source": [
    "# Write code here\n",
    "first_term=0\n",
    "second_term=1\n",
    "total_terms_to_print = int(input(\"Enter the total number of terms to Print\"))\n",
    "if total_terms_to_print == 1:\n",
    "    print(first_term)\n",
    "elif total_terms_to_print == 2:   \n",
    "    print(f\"{first_term},{second_term}\")\n",
    "elif total_terms_to_print == 0:\n",
    "    pass\n",
    "for i in range(3,total_terms_to_print +1):\n",
    "        if i == 3:\n",
    "           third_term=first_term + second_term\n",
    "           print(f\"{first_term},{second_term},\",end=\"\") \n",
    "        print(third_term,end=\"\")\n",
    "        if total_terms_to_print != i:\n",
    "            print(\",\",end=\"\")\n",
    "        first_term = second_term\n",
    "        second_term = third_term\n",
    "        third_term = first_term + second_term"
   ]
  },
  {
   "cell_type": "markdown",
   "metadata": {
    "id": "pk_I_S4m3PT5"
   },
   "source": [
    "### `Problem 6` - Find the factorial of a given number.\n",
    "\n",
    "Write a program to use the loop to find the factorial of a given number.\n",
    "\n",
    "The factorial (symbol: `!`) means to multiply all whole numbers from the chosen number down to 1.\n",
    "\n",
    "For example: calculate the factorial of 5\n",
    "\n",
    "```bash\n",
    "5! = 5 × 4 × 3 × 2 × 1 = 120\n",
    "```\n",
    "\n",
    "Output:\n",
    "\n",
    "```bash\n",
    "120\n",
    "```"
   ]
  },
  {
   "cell_type": "code",
   "execution_count": 10,
   "metadata": {
    "id": "lzXxHegx3Rkc"
   },
   "outputs": [
    {
     "name": "stdin",
     "output_type": "stream",
     "text": [
      "Enter the number whose factorial needs to be calculated 3\n"
     ]
    },
    {
     "name": "stdout",
     "output_type": "stream",
     "text": [
      "Factorial of the number is :6\n"
     ]
    }
   ],
   "source": [
    "# Write code here\n",
    "number_fact = int(input(\"Enter the number whose factorial needs to be calculated\"))\n",
    "fact=1\n",
    "for i in range(number_fact,0,-1):\n",
    "    fact=fact*i\n",
    "print(f\"Factorial of the number is :{fact}\")"
   ]
  },
  {
   "cell_type": "markdown",
   "metadata": {
    "id": "-17IOi-g3UpU"
   },
   "source": [
    "### `Problem 7` - Reverse a given integer number.\n",
    "\n",
    "Example:\n",
    "\n",
    "`Input:`\n",
    "\n",
    "```bash\n",
    "76542\n",
    "```\n",
    "\n",
    "`Output:`\n",
    "\n",
    "```bash\n",
    "24567\n",
    "```"
   ]
  },
  {
   "cell_type": "code",
   "execution_count": null,
   "metadata": {
    "id": "wJwLpKCr3aVA"
   },
   "outputs": [],
   "source": [
    "# Write code here\n",
    "n = int(input(\"Enter the number whose reverse needs to be calculated\"))\n",
    "rev = 0\n",
    "while(n > 0): \n",
    "    a = n % 10\n",
    "    rev = rev * 10 + a \n",
    "    n = n // 10\n",
    "print(f\"This reverse of the number is :{rev}\")\n"
   ]
  },
  {
   "cell_type": "markdown",
   "metadata": {
    "id": "-t8PJQaY3sHf"
   },
   "source": [
    "### `Problem 8`: Take a user input as integer N. Find out the sum from 1 to N. If any number if divisible by 5, then skip that number. And if the sum is greater than 300, don't need to calculate the sum further more. Print the final result. And don't use for loop to solve this problem.\n",
    "\n",
    "**Example 1:**\n",
    "\n",
    "`Input:`\n",
    "\n",
    "```bash\n",
    "30\n",
    "```\n",
    "\n",
    "`Output:`\n",
    "\n",
    "```bash\n",
    "276\n",
    "```"
   ]
  },
  {
   "cell_type": "code",
   "execution_count": 5,
   "metadata": {
    "id": "GZB6mGMP3ujT"
   },
   "outputs": [
    {
     "name": "stdin",
     "output_type": "stream",
     "text": [
      "Enter the value of N 50\n"
     ]
    },
    {
     "name": "stdout",
     "output_type": "stream",
     "text": [
      "The Final sum is :276\n"
     ]
    }
   ],
   "source": [
    "# Write code here\n",
    "n=int(input(\"Enter the value of N\"))\n",
    "counter=1\n",
    "s= 0\n",
    "while counter <= n:\n",
    "    if counter % 5 == 0:\n",
    "        counter = counter + 1\n",
    "        continue\n",
    "    s = s + counter\n",
    "    if s > 300:\n",
    "        s = s - counter\n",
    "        break;\n",
    "    counter = counter + 1\n",
    "print(f\"The Final sum is :{s}\")"
   ]
  },
  {
   "cell_type": "markdown",
   "metadata": {
    "id": "Q7ggImeA3xm4"
   },
   "source": [
    "### `Problem 9`: Write a program that keeps on accepting a number from the user until the user enters Zero. Display the sum and average of all the numbers."
   ]
  },
  {
   "cell_type": "code",
   "execution_count": 13,
   "metadata": {
    "id": "t_YDSZDe4Kdo"
   },
   "outputs": [
    {
     "name": "stdin",
     "output_type": "stream",
     "text": [
      "\n",
      "            Enter one number at a time for which you need Sum and Averages :\n",
      "            Enter 0 number to stop the execution:\n",
      "             10\n",
      "\n",
      "            Enter one number at a time for which you need Sum and Averages :\n",
      "            Enter 0 number to stop the execution:\n",
      "             20\n",
      "\n",
      "            Enter one number at a time for which you need Sum and Averages :\n",
      "            Enter 0 number to stop the execution:\n",
      "             30\n",
      "\n",
      "            Enter one number at a time for which you need Sum and Averages :\n",
      "            Enter 0 number to stop the execution:\n",
      "             0\n"
     ]
    },
    {
     "name": "stdout",
     "output_type": "stream",
     "text": [
      "Sum of numbers is:60\n",
      "Average of numbers is:20.00\n"
     ]
    }
   ],
   "source": [
    "# Write code here\n",
    "counter=0\n",
    "sum=0\n",
    "while True:\n",
    "    number = int(input(\"\"\"\n",
    "            Enter one number at a time for which you need Sum and Averages :\n",
    "            Enter 0 number to stop the execution:\n",
    "            \"\"\"))\n",
    "    if number == 0:\n",
    "        break\n",
    "    sum=sum+number\n",
    "    counter +=1\n",
    "print(f\"Sum of numbers is:{sum}\")\n",
    "if counter > 1:\n",
    "    print(f\"Average of numbers is:{sum/counter:.2F}\")\n",
    "else:\n",
    "    print(f\"Sum of number is:0.00\")"
   ]
  },
  {
   "cell_type": "markdown",
   "metadata": {
    "id": "6EhvEMvm4R7s"
   },
   "source": [
    "###`Problem 9`: Write a program which will find all such numbers which are divisible by 7 but are not a multiple of 5, between 2000 and 3200 (both included). The numbers obtained should be printed in a comma-separated sequence on a single line."
   ]
  },
  {
   "cell_type": "code",
   "execution_count": 18,
   "metadata": {
    "id": "d6RgP1B34T6c"
   },
   "outputs": [
    {
     "name": "stdout",
     "output_type": "stream",
     "text": [
      "2002,2009,2016,2023,2037,2044,2051,2058,2072,2079,2086,2093,2107,2114,2121,2128,2142,2149,2156,2163,2177,2184,2191,2198,2212,2219,2226,2233,2247,2254,2261,2268,2282,2289,2296,2303,2317,2324,2331,2338,2352,2359,2366,2373,2387,2394,2401,2408,2422,2429,2436,2443,2457,2464,2471,2478,2492,2499,2506,2513,2527,2534,2541,2548,2562,2569,2576,2583,2597,2604,2611,2618,2632,2639,2646,2653,2667,2674,2681,2688,2702,2709,2716,2723,2737,2744,2751,2758,2772,2779,2786,2793,2807,2814,2821,2828,2842,2849,2856,2863,2877,2884,2891,2898,2912,2919,2926,2933,2947,2954,2961,2968,2982,2989,2996,3003,3017,3024,3031,3038,3052,3059,3066,3073,3087,3094,3101,3108,3122,3129,3136,3143,3157,3164,3171,3178,3192,3199\n"
     ]
    }
   ],
   "source": [
    "# Write code here\n",
    "l=[]\n",
    "for i in range(2000,3201):\n",
    "    if i % 7 == 0 and i % 5 != 0:\n",
    "        l.append(str(i))\n",
    "print(\",\".join(l))"
   ]
  },
  {
   "cell_type": "markdown",
   "metadata": {
    "id": "tYvmRR-G4Vp4"
   },
   "source": [
    "###`Problem 10`: Write a program, which will find all such numbers between 1000 and 3000 (both included) such that each digit of the number is an even number. The numbers obtained should be printed in a space-separated sequence on a single line.\n",
    "\n"
   ]
  },
  {
   "cell_type": "code",
   "execution_count": 21,
   "metadata": {
    "id": "k6Gs1kIf4k19"
   },
   "outputs": [
    {
     "name": "stdout",
     "output_type": "stream",
     "text": [
      "2000,2002,2004,2006,2008,2020,2022,2024,2026,2028,2040,2042,2044,2046,2048,2060,2062,2064,2066,2068,2080,2082,2084,2086,2088,2200,2202,2204,2206,2208,2220,2222,2224,2226,2228,2240,2242,2244,2246,2248,2260,2262,2264,2266,2268,2280,2282,2284,2286,2288,2400,2402,2404,2406,2408,2420,2422,2424,2426,2428,2440,2442,2444,2446,2448,2460,2462,2464,2466,2468,2480,2482,2484,2486,2488,2600,2602,2604,2606,2608,2620,2622,2624,2626,2628,2640,2642,2644,2646,2648,2660,2662,2664,2666,2668,2680,2682,2684,2686,2688,2800,2802,2804,2806,2808,2820,2822,2824,2826,2828,2840,2842,2844,2846,2848,2860,2862,2864,2866,2868,2880,2882,2884,2886,2888\n"
     ]
    }
   ],
   "source": [
    "# Write code here\n",
    "l=[]\n",
    "for i in range(1000,3001):\n",
    "    n=i\n",
    "    while(n > 0):\n",
    "        a = n % 10\n",
    "        if a % 2 == 0:\n",
    "            n = n // 10\n",
    "            if n == 0:\n",
    "               l.append(str(i))    \n",
    "        else:\n",
    "            break\n",
    "print(\",\".join(l))"
   ]
  },
  {
   "cell_type": "markdown",
   "metadata": {
    "id": "GV18IINT4mf5"
   },
   "source": [
    "###`Problem 11`: A robot moves in a plane starting from the original point (0,0). The robot can move toward UP, DOWN, LEFT and RIGHT with a given steps.\n",
    "The trace of robot movement is shown as the following:\n",
    "```\n",
    "UP 5\n",
    "DOWN 3\n",
    "LEFT 3\n",
    "RIGHT 2\n",
    "!\n",
    "```\n",
    "> The numbers after the direction are steps.\n",
    "\n",
    "> `!` means robot stop there.\n",
    "\n",
    "**Please write a program to compute the distance from current position after a sequence of movement and original point.**\n",
    "\n",
    "*If the distance is a float, then just print the nearest integer.*\n",
    "\n",
    "Example:\n",
    "\n",
    "`Input`:\n",
    "```\n",
    "UP 5\n",
    "DOWN 3\n",
    "LEFT 3\n",
    "RIGHT 2\n",
    "!\n",
    "```\n",
    "`Output`:\n",
    "```\n",
    "2\n",
    "```"
   ]
  },
  {
   "cell_type": "code",
   "execution_count": 28,
   "metadata": {
    "id": "6UNMC2aR4w5x"
   },
   "outputs": [
    {
     "name": "stdin",
     "output_type": "stream",
     "text": [
      "Enter the User's Input movement UP 5\n",
      "Enter the User's Input movement DOWN 5\n",
      "Enter the User's Input movement LEFT 5\n",
      "Enter the User's Input movement RIGHT 5\n",
      "Enter the User's Input movement !\n"
     ]
    },
    {
     "name": "stdout",
     "output_type": "stream",
     "text": [
      "Final Distance is: [0, 0]\n",
      "computed_distance is =0\n"
     ]
    }
   ],
   "source": [
    "# Write code here\n",
    "initial_position = [0,0]\n",
    "while True:\n",
    "    input_movement=input(\"Enter the User's Input movement\")\n",
    "    if input_movement == '!':\n",
    "        break\n",
    "    direction = input_movement.split()[0]\n",
    "    steps = int(input_movement.split()[1])\n",
    "    if direction.upper() == 'UP':\n",
    "        initial_position[1] +=  steps\n",
    "    elif direction.upper() == 'DOWN':\n",
    "        initial_position[1] -= steps\n",
    "    elif direction.upper() == 'RIGHT':\n",
    "        initial_position[0] +=  steps\n",
    "    elif direction.upper() == 'LEFT':\n",
    "        initial_position[0] -= steps\n",
    "    else:\n",
    "        pass\n",
    "print(f\"Final Distance is: {initial_position}\")\n",
    "computed_distance= ((initial_position[0]**2) + (initial_position[1]**2))**0.5\n",
    "print(f\"computed_distance is ={round(computed_distance)}\")"
   ]
  },
  {
   "cell_type": "markdown",
   "metadata": {
    "id": "3fsAIAhK5GYY"
   },
   "source": [
    "###`Problem 12`:Write a program to print whether a given number is a prime number or not"
   ]
  },
  {
   "cell_type": "code",
   "execution_count": 35,
   "metadata": {
    "id": "j6y91lxy5LZs"
   },
   "outputs": [
    {
     "name": "stdin",
     "output_type": "stream",
     "text": [
      " Enter tghe number to check whether it is prime or not 17\n"
     ]
    },
    {
     "name": "stdout",
     "output_type": "stream",
     "text": [
      " 17 is a Prime number\n"
     ]
    }
   ],
   "source": [
    "# Write code here\n",
    "# Check if the number is less than\n",
    "# or equal to 1, return False if it is\n",
    "n = int(input(\" Enter the number to check whether it is prime or not\"))\n",
    "if n <= 1:\n",
    "    print(f\" {n} is not a Prime number\")\n",
    "# Loop through all numbers from 2 to\n",
    "# the square root of n (rounded down to the nearest integer)\n",
    "flag = True\n",
    "for i in range(2, int(n**0.5)+1):\n",
    "# If n is divisible by any of these numbers\n",
    "    if n % i == 0:\n",
    "        print(f\" {n} is not a Prime number\")\n",
    "        flag = False\n",
    "        break\n",
    "    # If n is not divisible by any of these numbers, return True\n",
    "if flag and n > 1:\n",
    "    print(f\" {n} is a Prime number\")"
   ]
  },
  {
   "cell_type": "markdown",
   "metadata": {
    "id": "asAbmbK-5NHv"
   },
   "source": [
    "###`Problem 13`:Print all the Armstrong numbers in a given range.\n",
    "Range will be provided by the user<br>\n",
    "Armstrong number is a number that is equal to the sum of cubes of its digits. For example 0, 1, 153, 370, 371 and 407 are the Armstrong numbers."
   ]
  },
  {
   "cell_type": "code",
   "execution_count": 50,
   "metadata": {
    "id": "PZuI67pm5jCT"
   },
   "outputs": [
    {
     "name": "stdin",
     "output_type": "stream",
     "text": [
      " Enter the Range of number to Print ArmStrong Numbers 100000\n"
     ]
    },
    {
     "name": "stdout",
     "output_type": "stream",
     "text": [
      "1,2,3,4,5,6,7,8,9,153,370,371,407,1634,8208,9474,54748,92727,93084\n"
     ]
    }
   ],
   "source": [
    "# Write code here\n",
    "#Each of its digits is raised to the power of the number of digits in it.\n",
    "n = int(input(\" Enter the Range of number to Print ArmStrong Numbers\"))\n",
    "l=[]\n",
    "for i in range(1,n+1):\n",
    "    sum =0\n",
    "    number = i\n",
    "    size = len(str(number))\n",
    "    while (number > 0):\n",
    "        x = number % 10\n",
    "        sum = sum + (x ** size)\n",
    "        number = number // 10\n",
    "    if sum == i:\n",
    "        l.append(str(i))\n",
    "print(\",\".join(l))\n"
   ]
  },
  {
   "cell_type": "markdown",
   "metadata": {
    "id": "ClCQZMqT7gK0"
   },
   "source": [
    "###`Problem 14`:Calculate the angle between the hour hand and minute hand.\n",
    "\n",
    "Note: There can be two angles between hands; we need to print a minimum of two. Also, we need to print the floor of the final result angle. For example, if the final angle is 10.61, we need to print 10.\n",
    "\n",
    "Input:<br>\n",
    "H = 9 , M = 0<br>\n",
    "Output:<br>\n",
    "90<br>\n",
    "Explanation:<br>\n",
    "The minimum angle between hour and minute\n",
    "hand when the time is 9 is 90 degress."
   ]
  },
  {
   "cell_type": "code",
   "execution_count": null,
   "metadata": {
    "id": "tNBTCZML7jy_"
   },
   "outputs": [],
   "source": [
    "# Write code here"
   ]
  },
  {
   "cell_type": "markdown",
   "metadata": {
    "id": "GwacF9Co72Qc"
   },
   "source": [
    "###`Problem 15`:Given two rectangles, find if the given two rectangles overlap or not. A rectangle is denoted by providing the x and y coordinates of two points: the left top corner and the right bottom corner of the rectangle. Two rectangles sharing a side are considered overlapping. (L1 and R1 are the extreme points of the first rectangle and L2 and R2 are the extreme points of the second rectangle).\n",
    "\n",
    "Note: It may be assumed that the rectangles are parallel to the coordinate axis.\n",
    "\n",
    "<img src='https://www.geeksforgeeks.org/wp-content/uploads/rectanglesOverlap.png' width='300' height='200'>"
   ]
  },
  {
   "cell_type": "code",
   "execution_count": null,
   "metadata": {
    "id": "6rrw_lpH78Rs"
   },
   "outputs": [],
   "source": [
    "# Write code here"
   ]
  }
 ],
 "metadata": {
  "colab": {
   "provenance": []
  },
  "kernelspec": {
   "display_name": "Python 3 (ipykernel)",
   "language": "python",
   "name": "python3"
  },
  "language_info": {
   "codemirror_mode": {
    "name": "ipython",
    "version": 3
   },
   "file_extension": ".py",
   "mimetype": "text/x-python",
   "name": "python",
   "nbconvert_exporter": "python",
   "pygments_lexer": "ipython3",
   "version": "3.11.7"
  }
 },
 "nbformat": 4,
 "nbformat_minor": 4
}
