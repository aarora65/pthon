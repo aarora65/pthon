{
  "cells": [
    {
      "cell_type": "markdown",
      "metadata": {
        "id": "h6dDSW5XGZFi"
      },
      "source": [
        "### **`Problem-1:`** Write a Python function that takes a list and returns a new list with unique elements of the first list.\n",
        "\n",
        "**Exercise 1:**\n",
        "\n",
        "Input:\n",
        "\n",
        "```bash\n",
        "[1,2,3,3,3,3,4,5]\n",
        "```\n",
        "\n",
        "Output:\n",
        "\n",
        "```bash\n",
        "[1, 2, 3, 4, 5]\n",
        "```"
      ]
    },
    {
      "cell_type": "code",
      "execution_count": 9,
      "metadata": {
        "id": "R5pq1C9LGe1y"
      },
      "outputs": [
        {
          "name": "stdout",
          "output_type": "stream",
          "text": [
            "[1, 2, 3, 4, 5]\n",
            "[1, 2, 3, 4, 5]\n"
          ]
        }
      ],
      "source": [
        "l = [1,2,3,3,3,3,4,5]\n",
        "def unique_list(l):\n",
        "    x = set(l)\n",
        "    return x\n",
        "print(list(unique_list(l)))\n",
        "\n",
        "#Below is the code without using set\n",
        "l1 = [1,2,3,3,3,3,4,5]\n",
        "def unique_list_without_set(l1):\n",
        "    final_list= []\n",
        "    for i in l1:\n",
        "        if i not in final_list:\n",
        "            #print(final_list)\n",
        "            final_list.append(i)\n",
        "    return final_list\n",
        "x=unique_list_without_set(l1)\n",
        "print(x)"
      ]
    },
    {
      "cell_type": "markdown",
      "metadata": {
        "id": "UxQ_VoyJGwHj"
      },
      "source": [
        "### **`Problem-2:`** Write a Python function that accepts a hyphen-separated sequence of words as parameter and returns the words in a hyphen-separated sequence after sorting them alphabetically.\n",
        "\n",
        "**Example 1:**\n",
        "\n",
        "Input:\n",
        "```bash\n",
        "green-red-yellow-black-white\n",
        "```\n",
        "\n",
        "Output:\n",
        "```bash\n",
        "black-green-red-white-yellow\n",
        "```"
      ]
    },
    {
      "cell_type": "code",
      "execution_count": 16,
      "metadata": {
        "id": "AAts2m5zGwiQ"
      },
      "outputs": [
        {
          "name": "stdout",
          "output_type": "stream",
          "text": [
            "black-green-red-white-yellow\n"
          ]
        }
      ],
      "source": [
        "# Write code here\n",
        "input=\"green-red-yellow-black-white\"\n",
        "def hyphen_separated(input):\n",
        "    l=[]\n",
        "    l=input.split('-')\n",
        "    l=sorted(l)\n",
        "    final_string = \"-\".join(l)\n",
        "    return final_string\n",
        "x = hyphen_separated(input)\n",
        "print(x)"
      ]
    },
    {
      "cell_type": "markdown",
      "metadata": {
        "id": "IRGH62S7Gx_n"
      },
      "source": [
        "### **`Problem 3:`** Write a Python function that accepts a string and calculate the number of upper case letters and lower case letters.\n",
        "\n",
        "```\n",
        "Sample String : 'CampusX is an Online Mentorship Program fOr EnginEering studentS.'\n",
        "Expected Output :\n",
        "No. of Upper case characters :  9\n",
        "No. of Lower case Characters :  47\n",
        "```"
      ]
    },
    {
      "cell_type": "code",
      "execution_count": 25,
      "metadata": {
        "id": "OaUrD8vVG5o8"
      },
      "outputs": [
        {
          "name": "stdout",
          "output_type": "stream",
          "text": [
            "No. of Upper case characters :9 \n",
            "No. of Lower case Characters :47\n"
          ]
        }
      ],
      "source": [
        "# Write code here\n",
        "input='CampusX is an Online Mentorship Program fOr EnginEering studentS.'\n",
        "def count_of_upper_lower(input):\n",
        "    nu=0\n",
        "    nl=0\n",
        "    for char in input:\n",
        "        \n",
        "        if char.isupper() and char.isalpha():\n",
        "            nu += 1\n",
        "        elif char.islower() and char.isalpha():\n",
        "            nl += 1\n",
        "        else:\n",
        "            pass\n",
        "    return nu,nl\n",
        "nu,nl = count_of_upper_lower(input)\n",
        "print(f\"No. of Upper case characters :{nu} \\nNo. of Lower case Characters :{nl}\")\n",
        "#count_of_upper_lower(input)\n"
      ]
    },
    {
      "cell_type": "markdown",
      "metadata": {
        "id": "V1BFFdYQG7Sn"
      },
      "source": [
        "### **`Problem 4:`** Write a Python program to print the even numbers from a given list.\n",
        "```\n",
        "Sample List : [1, 2, 3, 4, 5, 6, 7, 8, 9]\n",
        "Expected Result : [2, 4, 6, 8]\n",
        "```"
      ]
    },
    {
      "cell_type": "code",
      "execution_count": 28,
      "metadata": {
        "id": "VvAReLoDG_Z3"
      },
      "outputs": [
        {
          "name": "stdout",
          "output_type": "stream",
          "text": [
            "[2, 4, 6, 8]\n"
          ]
        }
      ],
      "source": [
        "# Write code here\n",
        "l=[1, 2, 3, 4, 5, 6, 7, 8, 9]\n",
        "def even_list(l):\n",
        "   return [i for i in l if i %2 ==0]\n",
        "print(even_list(l))"
      ]
    },
    {
      "cell_type": "markdown",
      "metadata": {
        "id": "qrK39Gn-HHb4"
      },
      "source": [
        "### **`Problem 5:`** Write a Python function to check whether a number is perfect or not.\n",
        "\n",
        "A Perfect number is a number that is half the sum of all of its positive divisors (including itself).\n",
        "\n",
        "Example :\n",
        "\n",
        "```\n",
        "The first perfect number is 6, because 1, 2, and 3 are its proper positive divisors, and 1 + 2 + 3 = 6.\n",
        "Equivalently, the number 6 is equal to half the sum of all its positive divisors: ( 1 + 2 + 3 + 6 ) / 2 = 6.\n",
        "\n",
        "The next perfect number is 28 = 1 + 2 + 4 + 7 + 14. This is followed by the perfect numbers 496 and 8128.\n",
        "```\n"
      ]
    },
    {
      "cell_type": "code",
      "execution_count": 34,
      "metadata": {
        "id": "P-OI7H78HICs"
      },
      "outputs": [
        {
          "name": "stdout",
          "output_type": "stream",
          "text": [
            "496 is a perfect number\n"
          ]
        }
      ],
      "source": [
        "# Write code here\n",
        "input_number=496\n",
        "def check_perfect_number(input_number):\n",
        "    sum = 0\n",
        "    flag = False\n",
        "    for i in range(1,input_number):\n",
        "        if input_number % i == 0:\n",
        "            sum += i\n",
        "    if sum == input_number:\n",
        "        flag = True\n",
        "    return flag\n",
        "\n",
        "if check_perfect_number(input_number):\n",
        "    print(f\"{input_number} is a perfect number\")\n",
        "else:\n",
        "    print(f\"{input_number} is a not perfect number\")"
      ]
    },
    {
      "cell_type": "markdown",
      "metadata": {
        "id": "oZdpcG77HO-6"
      },
      "source": [
        "### **`Problem-6:`** Write a Python function to concatenate any no of dictionaries to create a new one.\n",
        "\n",
        "```\n",
        "Sample Dictionary :\n",
        "dic1={1:10, 2:20}\n",
        "dic2={3:30, 4:40}\n",
        "dic3={5:50,6:60}\n",
        "Expected Result : {1: 10, 2: 20, 3: 30, 4: 40, 5: 50, 6: 60}\n",
        "```"
      ]
    },
    {
      "cell_type": "code",
      "execution_count": 39,
      "metadata": {
        "id": "LQgfAY4ZHPhj"
      },
      "outputs": [
        {
          "name": "stdout",
          "output_type": "stream",
          "text": [
            "{1: 10, 2: 20, 3: 30, 4: 40, 5: 50, 6: 60}\n"
          ]
        }
      ],
      "source": [
        "# Write code here\n",
        "#update function is to add to dictionary\n",
        "dic1={1:10, 2:20}\n",
        "dic2={3:30, 4:40}\n",
        "dic3={5:50,6:60}\n",
        "def concat_dict(*kwargs):\n",
        "    temp_dict={}\n",
        "    for i in kwargs:\n",
        "        #print(i)\n",
        "        temp_dict.update(i)\n",
        "    return temp_dict\n",
        "final_dict={}\n",
        "final_dict=concat_dict(dic1,dic2,dic3)\n",
        "print(final_dict)"
      ]
    },
    {
      "cell_type": "markdown",
      "metadata": {
        "id": "jQ6SzbCkHRd0"
      },
      "source": [
        "`Problem-7` Write a python function that accepts a string as input and returns the word with most occurence.\n",
        "\n",
        "```\n",
        "Input:\n",
        "hello how are you i am fine thank you\n",
        "```\n",
        "\n",
        "```\n",
        "Output\n",
        "you -> 2\n",
        "```"
      ]
    },
    {
      "cell_type": "code",
      "execution_count": 48,
      "metadata": {
        "id": "Lh04JHLzIW7Z"
      },
      "outputs": [
        {
          "name": "stdout",
          "output_type": "stream",
          "text": [
            "you -> 2\n"
          ]
        }
      ],
      "source": [
        "# Write code here\n",
        "input_string=\"hello how are you i am fine thank you\"\n",
        "def most_frequency_word(input_string):\n",
        "    temp_dict={}\n",
        "    for i in input_string.split():\n",
        "        if i not in temp_dict:\n",
        "            temp_dict[i]=1\n",
        "        else:   \n",
        "            temp_dict[i] += 1\n",
        "    max_value = max(temp_dict.values())\n",
        "    max_key = max(temp_dict.keys())\n",
        "    print(max_key,'->',max_value)\n",
        "\n",
        "most_frequency_word(input_string)"
      ]
    },
    {
      "cell_type": "markdown",
      "metadata": {
        "id": "1r8SpVntI-IW"
      },
      "source": [
        "`Problem-8` Write a python function that receives a list of integers and prints out a histogram of bin size 10\n",
        "\n",
        "```\n",
        "Input:\n",
        "[13,42,15,37,22,39,41,50]\n",
        "```\n",
        "\n",
        "```\n",
        "Output:\n",
        "{11-20:2,21-30:1,31-40:2,41-50:3}\n",
        "```"
      ]
    },
    {
      "cell_type": "code",
      "execution_count": 62,
      "metadata": {
        "id": "7W0J8rUjJovg"
      },
      "outputs": [
        {
          "name": "stdout",
          "output_type": "stream",
          "text": [
            "10 50\n",
            "{'11-20': 2, '21-30': 1, '31-40': 2, '41-50': 3}\n"
          ]
        }
      ],
      "source": [
        "# Write code here\n",
        "from math import floor,ceil \n",
        "input_list=[13,42,15,37,22,39,41,50]\n",
        "def create_historgram_list(input_list):\n",
        "    minimum = floor(min(input_list)/10) * 10\n",
        "    maximum= ceil(max(input_list)/10) * 10\n",
        "    print(minimum,maximum)\n",
        "    temp_dict={}\n",
        "    for i in range(minimum,maximum,10):\n",
        "        count = 0\n",
        "        for j in input_list:\n",
        "            if i+1<=j<=i+10:\n",
        "                count+=1\n",
        "        temp_dict[str(i+1) + '-' + str(i+10)] = count\n",
        "\n",
        "    return temp_dict\n",
        "\n",
        "print(create_historgram_list(input_list))\n",
        "\n",
        "\n"
      ]
    },
    {
      "cell_type": "markdown",
      "metadata": {
        "id": "1P2-rbgXKE53"
      },
      "source": [
        "`Problem-9` Write a python function that accepts a list of 2D co-ordinates and a query point, and then finds the the co-ordinate which is closest in terms of distance from the query point.\n",
        "\n",
        "```\n",
        "List of Coordinates\n",
        "[(1,1),(2,2),(3,3),(4,4)]\n",
        "Query Point\n",
        "(0,0)\n",
        "```\n",
        "\n",
        "```\n",
        "Output\n",
        "Nearest to (0,0) is (1,1)\n",
        "```"
      ]
    },
    {
      "cell_type": "code",
      "execution_count": 77,
      "metadata": {
        "id": "zjn7vSTIJ81G"
      },
      "outputs": [
        {
          "name": "stdout",
          "output_type": "stream",
          "text": [
            "1\n"
          ]
        }
      ],
      "source": [
        "# Write code here\n",
        "def shortest_dist(points,query):\n",
        "  temp = []\n",
        "  for i in points:\n",
        "    distance = ((i[0] - query[0])**2 + (i[1] - query[1])**2)**0.5\n",
        "    temp.append(distance)\n",
        "  #print(sorted(list(enumerate(temp)),key=lambda x:x[1])[0][0])\n",
        "\n",
        "\n",
        "  return points[sorted(list(enumerate(temp)),key=lambda x:x[1])[0][0]]\n",
        "\n",
        "\n",
        "points = [(1,4),(2,-2),(13,3),(14,4)]\n",
        "query = (0,0)\n",
        "\n",
        "shortest_dist(points,query)"
      ]
    },
    {
      "cell_type": "code",
      "execution_count": 88,
      "metadata": {},
      "outputs": [
        {
          "name": "stdout",
          "output_type": "stream",
          "text": [
            "Nearest to (0, 0) is (1, 1)\n"
          ]
        }
      ],
      "source": [
        "#This is solved using dictionary\n",
        "#points = [(1,4),(2,-2),(13,3),(14,4)]\n",
        "points=[(1,1),(2,2),(3,3),(4,4)]\n",
        "query = (0,0)\n",
        "def shortest_distance(points,query):\n",
        "    d={}\n",
        "    for i in points:\n",
        "        distance=0\n",
        "        distance = ((i[0] - query[0])**2 + (i[1] - query[1])**2)**0.5\n",
        "        d[i]=distance\n",
        "    #max_key = max(d.keys())\n",
        "    #max_value = max(d.values())\n",
        "    min_key = min(d.keys())\n",
        "    #min_value = min(d.values())\n",
        "    return min_key\n",
        "    \n",
        "        \n",
        "print(f\"Nearest to {query} is {shortest_distance(points,query)}\")\n"
      ]
    },
    {
      "cell_type": "markdown",
      "metadata": {
        "id": "i-B6igmyK9hB"
      },
      "source": [
        "`Problem-10`:Write a python program that receives a list of strings and performs bag of word operation on those strings\n",
        "\n",
        "https://en.wikipedia.org/wiki/Bag-of-words_model"
      ]
    },
    {
      "cell_type": "code",
      "execution_count": 89,
      "metadata": {
        "id": "N2l1_AWULT-z"
      },
      "outputs": [
        {
          "name": "stdout",
          "output_type": "stream",
          "text": [
            "{'bat', 'rat', 'cat', 'pat', 'fat', 'mat', 'sat'}\n"
          ]
        },
        {
          "data": {
            "text/plain": [
              "[[0, 1, 2, 0, 0, 1, 0], [1, 1, 1, 0, 1, 0, 1], [0, 1, 1, 1, 0, 1, 0]]"
            ]
          },
          "execution_count": 89,
          "metadata": {},
          "output_type": "execute_result"
        }
      ],
      "source": [
        "# Write code here\n",
        "\n",
        "def bow(L):\n",
        "\n",
        "  vocab = set()\n",
        "\n",
        "  for i in L:\n",
        "    vocab.update(i.split())\n",
        "\n",
        "  result = []\n",
        "\n",
        "  for i in L:\n",
        "    result.append([])\n",
        "    for j in vocab:\n",
        "      result[-1].append(i.count(j))\n",
        "\n",
        "  print(vocab)\n",
        "  return result\n",
        "\n",
        "\n",
        "L = [\n",
        "    'cat mat rat cat',\n",
        "     'sat bat fat cat rat',\n",
        "     'pat cat mat rat'\n",
        "]\n",
        "\n",
        "bow(L)"
      ]
    },
    {
      "cell_type": "code",
      "execution_count": 104,
      "metadata": {},
      "outputs": [
        {
          "name": "stdout",
          "output_type": "stream",
          "text": [
            "{'bat', 'rat', 'cat', 'pat', 'fat', 'mat', 'sat'}\n"
          ]
        },
        {
          "data": {
            "text/plain": [
              "[[0, 1, 2, 0, 0, 1, 0], [1, 1, 1, 0, 1, 0, 1], [0, 1, 1, 1, 0, 1, 0]]"
            ]
          },
          "execution_count": 104,
          "metadata": {},
          "output_type": "execute_result"
        }
      ],
      "source": [
        "L = [\n",
        "    'cat mat rat cat',\n",
        "     'sat bat fat cat rat',\n",
        "     'pat cat mat rat'\n",
        "]\n",
        "\n",
        "def bag_of_words(L):\n",
        "    vocabulary=set()\n",
        "    for i in L: \n",
        "        vocabulary.update(i.split())\n",
        "    res=[]\n",
        "    for i in L:\n",
        "        res.append([])\n",
        "        for j in vocabulary:\n",
        "            res[-1].append(i.count(j))\n",
        "    print(vocabulary)\n",
        "    return res\n",
        "\n",
        "bag_of_words(L)"
      ]
    },
    {
      "cell_type": "markdown",
      "metadata": {
        "id": "dHTRKb-DqMLw"
      },
      "source": [
        "###`Problem 11:` Write a Python program to add three given lists using Python map and lambda."
      ]
    },
    {
      "cell_type": "code",
      "execution_count": 105,
      "metadata": {
        "id": "NfJdzyNZqNW-"
      },
      "outputs": [
        {
          "data": {
            "text/plain": [
              "[12, 15, 18]"
            ]
          },
          "execution_count": 105,
          "metadata": {},
          "output_type": "execute_result"
        }
      ],
      "source": [
        "# Write code here\n",
        "# Write code here\n",
        "L1 = [1,2,3]\n",
        "L2 = [4,5,6]\n",
        "L3 = [7,8,9]\n",
        "\n",
        "# [12,15,18]\n",
        "\n",
        "list(map(lambda x,y,z:x+y+z,L1,L2,L3))"
      ]
    },
    {
      "cell_type": "markdown",
      "metadata": {
        "id": "MgHP7mbUqO8l"
      },
      "source": [
        "###`Problem-12:`Write a Python program to create a list containing the power of said number in bases raised to the corresponding number in the index using Python map.\n",
        "`Input:`\n",
        "```\n",
        "list1 = [1,2,3,4,5,6]\n",
        "```\n",
        "`Output:`\n",
        "```\n",
        "[1,2,9,64,625,-]\n",
        "```\n"
      ]
    },
    {
      "cell_type": "code",
      "execution_count": 106,
      "metadata": {
        "id": "gG3Dc6N3qbvN"
      },
      "outputs": [
        {
          "data": {
            "text/plain": [
              "[1, 2, 9, 64, 625, 7776]"
            ]
          },
          "execution_count": 106,
          "metadata": {},
          "output_type": "execute_result"
        }
      ],
      "source": [
        "# Write code here\n",
        "list1 = [1,2,3,4,5,6]\n",
        "list(map(lambda x,y:x**y,list1,range(len(list1))))"
      ]
    },
    {
      "cell_type": "markdown",
      "metadata": {
        "id": "G26SYq6vqdLN"
      },
      "source": [
        "###`Problem-13` Using filter() and list() functions and .lower() method filter all the vowels in a given string.\n",
        "\n"
      ]
    },
    {
      "cell_type": "code",
      "execution_count": 107,
      "metadata": {
        "id": "zurga3DIqmEx"
      },
      "outputs": [
        {
          "data": {
            "text/plain": [
              "['I', 'A', 'o', 'u', 'i', 'i', 'a', 'e', 'a', 'e', 'i', 'a', 'a']"
            ]
          },
          "execution_count": 107,
          "metadata": {},
          "output_type": "execute_result"
        }
      ],
      "source": [
        "# Write code here\n",
        "# Write code here\n",
        "str1=\"FIFA world cup in 2022 will take place in Qatar\"\n",
        "\n",
        "list(filter(lambda x:True if x.lower() in 'aeiou' else False,str1))"
      ]
    },
    {
      "cell_type": "code",
      "execution_count": 141,
      "metadata": {},
      "outputs": [
        {
          "data": {
            "text/plain": [
              "['I', 'A', 'o', 'u', 'i', 'i', 'a', 'e', 'a', 'e', 'i', 'a', 'a']"
            ]
          },
          "execution_count": 141,
          "metadata": {},
          "output_type": "execute_result"
        }
      ],
      "source": [
        "str1=\"FIFA world cup in 2022 will take place in Qatar\"\n",
        "list(filter(lambda x : True if x.upper() in 'AEIOU' else False,str1))"
      ]
    },
    {
      "cell_type": "markdown",
      "metadata": {
        "id": "uQrsunZSqoYu"
      },
      "source": [
        "`Problem-14`: Use reduce to convert a 2D list to 1D"
      ]
    },
    {
      "cell_type": "code",
      "execution_count": 108,
      "metadata": {
        "id": "E1YUwnfgqnka"
      },
      "outputs": [
        {
          "data": {
            "text/plain": [
              "[1, 2, 3, 3, 6, 7, 7, 5, 4]"
            ]
          },
          "execution_count": 108,
          "metadata": {},
          "output_type": "execute_result"
        }
      ],
      "source": [
        "# Write code here\n",
        "# Write code here\n",
        "ini_list = [[1, 2, 3],\n",
        "            [3, 6, 7],\n",
        "            [7, 5, 4]]\n",
        "\n",
        "import functools\n",
        "functools.reduce(lambda x,y:x+y,ini_list)"
      ]
    },
    {
      "cell_type": "markdown",
      "metadata": {
        "id": "8-DLQEawt-_t"
      },
      "source": [
        "`Problem 15`- A dictionary contains following information about 5 employees:\n",
        "- First name\n",
        "- Last name\n",
        "- Age\n",
        "- Grade(Skilled,Semi-skilled,Highly skilled)<br>\n",
        "Write a program using map/filter/reduce to a list of employees(first name + last name) who are highly skilled"
      ]
    },
    {
      "cell_type": "code",
      "execution_count": null,
      "metadata": {
        "id": "OLvptttLs6OU"
      },
      "outputs": [],
      "source": [
        "# Write code here\n",
        "employees = [\n",
        "    {\n",
        "        'fname':'Nitish',\n",
        "        'lname':'Singh',\n",
        "        'age' : 33,\n",
        "        'grade':'skilled'\n",
        "    },\n",
        "    {\n",
        "        'fname':'Ankit',\n",
        "        'lname':'Verma',\n",
        "        'age' : 34,\n",
        "        'grade':'semi-skilled'\n",
        "    },\n",
        "    {\n",
        "        'fname':'Neha',\n",
        "        'lname':'Singh',\n",
        "        'age' : 35,\n",
        "        'grade':'highly-skilled'\n",
        "    },\n",
        "    {\n",
        "        'fname':'Anurag',\n",
        "        'lname':'Kumar',\n",
        "        'age' : 30,\n",
        "        'grade':'skilled'\n",
        "    },\n",
        "    {\n",
        "        'fname':'Abhinav',\n",
        "        'lname':'Sharma',\n",
        "        'age' : 37,\n",
        "        'grade':'highly-skilled'\n",
        "    }\n",
        "\n",
        "]"
      ]
    },
    {
      "cell_type": "code",
      "execution_count": null,
      "metadata": {},
      "outputs": [],
      "source": []
    },
    {
      "cell_type": "code",
      "execution_count": 112,
      "metadata": {
        "colab": {
          "base_uri": "https://localhost:8080/"
        },
        "id": "vLX0FAQkui3y",
        "outputId": "e7d50543-c30e-4a20-c793-756f5a435df7"
      },
      "outputs": [
        {
          "data": {
            "text/plain": [
              "['Neha Singh', 'Abhinav Sharma']"
            ]
          },
          "execution_count": 112,
          "metadata": {},
          "output_type": "execute_result"
        }
      ],
      "source": [
        "\n",
        "employees = [\n",
        "    {\n",
        "        'fname':'Nitish',\n",
        "        'lname':'Singh',\n",
        "        'age' : 33,\n",
        "        'grade':'skilled'\n",
        "    },\n",
        "    {\n",
        "        'fname':'Ankit',\n",
        "        'lname':'Verma',\n",
        "        'age' : 34,\n",
        "        'grade':'semi-skilled'\n",
        "    },\n",
        "    {\n",
        "        'fname':'Neha',\n",
        "        'lname':'Singh',\n",
        "        'age' : 35,\n",
        "        'grade':'highly-skilled'\n",
        "    },\n",
        "    {\n",
        "        'fname':'Anurag',\n",
        "        'lname':'Kumar',\n",
        "        'age' : 30,\n",
        "        'grade':'skilled'\n",
        "    },\n",
        "    {\n",
        "        'fname':'Abhinav',\n",
        "        'lname':'Sharma',\n",
        "        'age' : 37,\n",
        "        'grade':'highly-skilled'\n",
        "    }\n",
        "\n",
        "]\n",
        "list(map(lambda x:x['fname'] + ' ' + x['lname'],list(filter(lambda x:True if x['grade'] == 'highly-skilled' else False,employees))))"
      ]
    }
  ],
  "metadata": {
    "colab": {
      "provenance": []
    },
    "kernelspec": {
      "display_name": "Python 3",
      "name": "python3"
    },
    "language_info": {
      "codemirror_mode": {
        "name": "ipython",
        "version": 3
      },
      "file_extension": ".py",
      "mimetype": "text/x-python",
      "name": "python",
      "nbconvert_exporter": "python",
      "pygments_lexer": "ipython3",
      "version": "3.12.2"
    }
  },
  "nbformat": 4,
  "nbformat_minor": 0
}
