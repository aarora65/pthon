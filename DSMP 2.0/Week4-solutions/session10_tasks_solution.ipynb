{
  "cells": [
    {
      "cell_type": "markdown",
      "metadata": {
        "id": "MbeMdx5d5qRj"
      },
      "source": [
        "### `Q-1:` Write a function `get_final_line(filename)`, which takes filename as input and return final line of the file.\n",
        "\n",
        "Note: You can choose any file of your choice."
      ]
    },
    {
      "cell_type": "code",
      "execution_count": 2,
      "metadata": {
        "id": "rjx9XRTq5uzD"
      },
      "outputs": [
        {
          "name": "stdout",
          "output_type": "stream",
          "text": [
            "I love playing and watching cricket.\n"
          ]
        }
      ],
      "source": [
        "# Write code here\n",
        "#We will do this question in using two approaches. The First approach is using readlines wehere we will read the entire file at once and then #finally returns the last line using slice[-1]. lets try this approach\n",
        "#We will create a file sample.txt wit some contents and will display the last line of that file\n",
        "# File.readlines() will read the entire file in the memory at once and it can consume your entire RAM space so it is not a good practice.\n",
        "# So we will read the file line by line and then finally return the last line.\n",
        "def get_final_line(filename):\n",
        "    file_content = open(filename,'r')\n",
        "    return file_content.readlines()[-1]\n",
        "print(get_final_line('sample.txt'))"
      ]
    },
    {
      "cell_type": "code",
      "execution_count": 6,
      "metadata": {},
      "outputs": [
        {
          "name": "stdout",
          "output_type": "stream",
          "text": [
            "I love playing and watching cricket.\n"
          ]
        }
      ],
      "source": [
        "def get_final_line(filename):\n",
        "    final_line = ''\n",
        "    for current_line in open(filename, 'r'):\n",
        "        pass\n",
        "        #final_line = current_line\n",
        "    return current_line\n",
        "print(get_final_line('sample.txt'))"
      ]
    },
    {
      "cell_type": "markdown",
      "metadata": {
        "id": "B87Z6-yQ5wVO"
      },
      "source": [
        "###`Q-2:` Read through a text file, line by line. Use a dict to keep track of how many times each vowel (a, e, i, o, and u) appears in the file. Print the resulting tabulation -- dictionary."
      ]
    },
    {
      "cell_type": "code",
      "execution_count": 15,
      "metadata": {
        "id": "XeXnOL7X50Sa"
      },
      "outputs": [
        {
          "name": "stdout",
          "output_type": "stream",
          "text": [
            "{'a': 13, 'e': 8, 'i': 12, 'o': 3, 'u': 2}\n"
          ]
        }
      ],
      "source": [
        "# Write code here\n",
        "def count_number_of_vowels_in_file(filename):\n",
        "    list_of_vowels=['a','e','i','o','u']\n",
        "    d={i:0 for i in list_of_vowels}\n",
        "    #print(d)\n",
        "    for current_line in open(filename, 'r'):\n",
        "        for ch in current_line:\n",
        "            ch=ch.lower()\n",
        "            if ch in list_of_vowels:\n",
        "                d[ch] += 1\n",
        "    return d\n",
        "print(count_number_of_vowels_in_file('sample.txt')) "
      ]
    },
    {
      "cell_type": "code",
      "execution_count": 17,
      "metadata": {},
      "outputs": [
        {
          "name": "stdout",
          "output_type": "stream",
          "text": [
            "{'a': 13, 'e': 8, 'i': 12, 'o': 3, 'u': 2}\n"
          ]
        }
      ],
      "source": [
        "#Here's the modified code:\n",
        "vowel_counts = {'a': 0, 'e': 0, 'i': 0, 'o': 0, 'u': 0}\n",
        "\n",
        "with open('sample.txt', 'r') as file:\n",
        "    for line in file:\n",
        "        for char in line:\n",
        "            char = char.lower()  # convert to lowercase\n",
        "            if char in 'aeiou':\n",
        "                vowel_counts[char] += 1\n",
        "\n",
        "print(vowel_counts)"
      ]
    },
    {
      "cell_type": "markdown",
      "metadata": {
        "id": "lRqQ2Y295-Gg"
      },
      "source": [
        "###`Q-3:` Create a text file (using an editor, not necessarily Python) containing two tab separated columns, with each column containing a number. Then use Python to read through the file you’ve created. For each line, multiply each first number by the second and include it in the file in third column. In last add a line Total, by summing the value of third column\n",
        "\n"
      ]
    },
    {
      "cell_type": "markdown",
      "metadata": {
        "id": "GtFfahZc6Bvg"
      },
      "source": [
        "Input File example: That you need to create\n",
        "```\n",
        "1   2\n",
        "3   4\n",
        "5   6\n",
        "7   8\n",
        "9   10\n",
        "\n",
        "```\n",
        "\n",
        "Output File Example:\n",
        "```\n",
        "1   2   2\n",
        "3   4   12\n",
        "5   6   30\n",
        "7   8   56\n",
        "9   10  90\n",
        "Total   190\n",
        "```\n"
      ]
    },
    {
      "cell_type": "code",
      "execution_count": 32,
      "metadata": {
        "id": "GiKvqHnr5-j2"
      },
      "outputs": [],
      "source": [
        "# write code here\n",
        "file_name='multiply.txt'\n",
        "with open(file_name,'w') as f:\n",
        "  for i in range(1,10,2):\n",
        "    s = str(i) +'\\t'+ str(i+1) + '\\n'\n",
        "    f.write(s)\n",
        "\n",
        "with open(file_name, 'r') as f:\n",
        "    lines = f.read().splitlines()\n",
        "total=0\n",
        "with open(file_name,'w') as f:\n",
        "  for line in lines:\n",
        "    a,b = line.split(sep='\\t')\n",
        "    res= int(a) * int(b)\n",
        "    s = str(a) +'\\t'+ str(b) +'\\t'+ str(res) + '\\n'\n",
        "    total += res\n",
        "    f.write(s)\n",
        "  s= 'Total' +'\\t'+ str(total) + '\\n'\n",
        "  f.write(s)"
      ]
    },
    {
      "cell_type": "markdown",
      "metadata": {
        "id": "DunQepHC6J9r"
      },
      "source": [
        "###`Q-4:` Create line wise reverse of a file\n",
        "Write a function which takes two arguments: the names of the input file (to be read from) and the output file (which will be created)."
      ]
    },
    {
      "cell_type": "markdown",
      "metadata": {
        "id": "QxWEtFle6Nmu"
      },
      "source": [
        "For example, if a file looks like\n",
        " ```\n",
        "abc def\n",
        "ghi jkl\n",
        "```\n",
        "then the output file will be\n",
        "```\n",
        "fed cba\n",
        "lkj ihg\n",
        "```\n",
        "**Notice**: The newline remains at the end of the string, while the rest of the characters are all reversed."
      ]
    },
    {
      "cell_type": "code",
      "execution_count": 34,
      "metadata": {
        "id": "aIJTJNAq6LD7"
      },
      "outputs": [],
      "source": [
        "# write code here\n",
        "input_file_name='input.txt'\n",
        "output_file_name='output.txt'\n",
        "\n",
        "def reverse_file(input_file_name,output_file_name):\n",
        "    with open(input_file_name, 'r') as fr,open(output_file_name, 'w') as fw:\n",
        "        for input_file_line in fr:\n",
        "            fw.write(input_file_line.rstrip()[::-1]+'\\n')\n",
        "\n",
        "reverse_file(input_file_name,output_file_name)"
      ]
    },
    {
      "cell_type": "markdown",
      "metadata": {
        "id": "wqvx3sMY6bou"
      },
      "source": [
        "###`Q-5:` Create a Serialized dict of frequency of words in the file. And from given list of words, using serialized dict show word count.\n",
        "\n",
        "* List of word will be given\n",
        "\n"
      ]
    },
    {
      "cell_type": "markdown",
      "metadata": {
        "id": "uc5MSUWg6cZG"
      },
      "source": [
        "Given String\n",
        "\n",
        "```\n",
        "strings = \"\"\"Alice was beginning to get very tired of sitting by her sister\n",
        "            on the bank, and of having nothing to do:  once or twice she had\n",
        "            peeped into the book her sister was reading, but it had no\n",
        "            pictures or conversations in it, `and what is the use of a book,'\n",
        "            thought Alice `without pictures or conversation?'\n",
        "\n",
        "            So she was considering in her own mind (as well as she could,\n",
        "            for the hot day made her feel very sleepy and stupid), whether\n",
        "            the pleasure of making a daisy-chain would be worth the trouble\n",
        "            of getting up and picking the daisies, when suddenly a White\n",
        "            Rabbit with pink eyes ran close by her.\n",
        "\n",
        "            There was nothing so VERY remarkable in that; nor did Alice\n",
        "            think it so VERY much out of the way to hear the Rabbit say to\n",
        "            itself, `Oh dear!  Oh dear!  I shall be late!'  (when she thought\n",
        "            it over afterwards, it occurred to her that she ought to have\n",
        "            wondered at this, but at the time it all seemed quite natural);\n",
        "            but when the Rabbit actually TOOK A WATCH OUT OF ITS WAISTCOAT-\n",
        "            POCKET, and looked at it, and then hurried on, Alice started to\n",
        "            her feet, for it flashed across her mind that she had never\n",
        "            before seen a rabbit with either a waistcoat-pocket, or a watch to\n",
        "            take out of it, and burning with curiosity, she ran across the\n",
        "            field after it, and fortunately was just in time to see it pop\n",
        "            down a large rabbit-hole under the hedge.\"\"\"\n",
        "\n",
        "word_list = ['alice', 'wonder', 'natural']\n",
        "```"
      ]
    },
    {
      "cell_type": "code",
      "execution_count": 49,
      "metadata": {
        "id": "-SmtFFUq6a70"
      },
      "outputs": [
        {
          "name": "stdout",
          "output_type": "stream",
          "text": [
            "{'alice': 4, 'was': 5, 'beginning': 1, 'to': 9, 'get': 1, 'very': 4, 'tired': 1, 'of': 8, 'sitting': 1, 'by': 2, 'her': 8, 'sister': 2, '': 235, 'on': 2, 'the': 13, 'bank': 1, 'and': 7, 'having': 1, 'nothing': 2, 'do:': 1, 'once': 1, 'or': 4, 'twice': 1, 'she': 7, 'had': 3, 'peeped': 1, 'into': 1, 'book': 1, 'reading': 1, 'but': 3, 'it': 11, 'no': 1, 'pictures': 2, 'conversations': 1, 'in': 4, '`and': 1, 'what': 1, 'is': 1, 'use': 1, 'a': 8, \"book'\": 1, 'thought': 2, '`without': 1, \"conversation'\": 1, 'so': 3, 'considering': 1, 'own': 1, 'mind': 2, 'as': 2, 'well': 1, 'could': 1, 'for': 2, 'hot': 1, 'day': 1, 'made': 1, 'feel': 1, 'sleepy': 1, 'stupid': 1, 'whether': 1, 'pleasure': 1, 'making': 1, 'daisy-chain': 1, 'would': 1, 'be': 2, 'worth': 1, 'trouble': 1, 'getting': 1, 'up': 1, 'picking': 1, 'daisies': 1, 'when': 3, 'suddenly': 1, 'white': 1, 'rabbit': 4, 'with': 3, 'pink': 1, 'eyes': 1, 'ran': 2, 'close': 1, 'there': 1, 'remarkable': 1, 'that;': 1, 'nor': 1, 'did': 1, 'think': 1, 'much': 1, 'out': 3, 'way': 1, 'hear': 1, 'say': 1, 'itself': 1, '`oh': 1, 'dear': 2, 'oh': 1, 'i': 1, 'shall': 1, \"late'\": 1, 'over': 1, 'afterwards': 1, 'occurred': 1, 'that': 2, 'ought': 1, 'have': 1, 'wondered': 1, 'at': 3, 'this': 1, 'time': 2, 'all': 1, 'seemed': 1, 'quite': 1, 'natural;': 1, 'actually': 1, 'took': 1, 'watch': 2, 'its': 1, 'waistcoat-': 1, 'pocket': 1, 'looked': 1, 'then': 1, 'hurried': 1, 'started': 1, 'feet': 1, 'flashed': 1, 'across': 2, 'never': 1, 'before': 1, 'seen': 1, 'either': 1, 'waistcoat-pocket': 1, 'take': 1, 'burning': 1, 'curiosity': 1, 'field': 1, 'after': 1, 'fortunately': 1, 'just': 1, 'see': 1, 'pop': 1, 'down': 1, 'large': 1, 'rabbit-hole': 1, 'under': 1, 'hedge': 1}\n",
            "alice 4\n",
            "wonder 0\n",
            "natural 0\n"
          ]
        }
      ],
      "source": [
        "# write code here\n",
        "import pickle as pkl\n",
        "strings = \"\"\"Alice was beginning to get very tired of sitting by her sister\n",
        "            on the bank, and of having nothing to do:  once or twice she had\n",
        "            peeped into the book her sister was reading, but it had no\n",
        "            pictures or conversations in it, `and what is the use of a book,'\n",
        "            thought Alice `without pictures or conversation?'\n",
        "\n",
        "            So she was considering in her own mind (as well as she could,\n",
        "            for the hot day made her feel very sleepy and stupid), whether\n",
        "            the pleasure of making a daisy-chain would be worth the trouble\n",
        "            of getting up and picking the daisies, when suddenly a White\n",
        "            Rabbit with pink eyes ran close by her.\n",
        "\n",
        "            There was nothing so VERY remarkable in that; nor did Alice\n",
        "            think it so VERY much out of the way to hear the Rabbit say to\n",
        "            itself, `Oh dear!  Oh dear!  I shall be late!'  (when she thought\n",
        "            it over afterwards, it occurred to her that she ought to have\n",
        "            wondered at this, but at the time it all seemed quite natural);\n",
        "            but when the Rabbit actually TOOK A WATCH OUT OF ITS WAISTCOAT-\n",
        "            POCKET, and looked at it, and then hurried on, Alice started to\n",
        "            her feet, for it flashed across her mind that she had never\n",
        "            before seen a rabbit with either a waistcoat-pocket, or a watch to\n",
        "            take out of it, and burning with curiosity, she ran across the\n",
        "            field after it, and fortunately was just in time to see it pop\n",
        "            down a large rabbit-hole under the hedge.\"\"\"\n",
        "\n",
        "word_list = ['alice', 'wonder', 'natural']\n",
        "\n",
        "word_count_dict=dict()\n",
        "for word in strings.lower().split(' '):\n",
        "    word=word.replace(\",\", \"\")\n",
        "    word=word.replace(\"\\n\",\"\")\n",
        "    word=word.replace(\".\", \"\")\n",
        "    word=word.replace(\"!\", \"\")\n",
        "    word=word.replace(\"(\", \"\")\n",
        "    word=word.replace(\")\", \"\")\n",
        "    word=word.replace(\"?\", \"\")\n",
        "    try:\n",
        "        word_count_dict[word] += 1\n",
        "    except:\n",
        "        word_count_dict[word] = 1\n",
        "pkl.dump(word_count_dict, open(\"word_count_dict.pkl\", \"wb\"))\n",
        "word_count1 = pkl.load(open(\"word_count_dict.pkl\", \"rb\"))\n",
        "print(word_count1)\n",
        "for s in word_list:\n",
        "    try:\n",
        "        print(s, word_count[s])\n",
        "    except:\n",
        "        print(s, 0)"
      ]
    },
    {
      "cell_type": "markdown",
      "metadata": {
        "id": "Und2HuFW6kAw"
      },
      "source": [
        "### **`Q-6:`** Given a string calculate length of the string using recursion.\n",
        "\n",
        "**Example 1:**\n",
        "\n",
        "Input:\n",
        "```bash\n",
        "\"abcd\"\n",
        "```\n",
        "\n",
        "Output:\n",
        "\n",
        "```bash\n",
        "4\n",
        "```\n",
        "\n",
        "**Example 2:**\n",
        "\n",
        "Input:\n",
        "```bash\n",
        "DataScience\n",
        "```\n",
        "\n",
        "Output:\n",
        "\n",
        "```bash\n",
        "11\n",
        "```\n"
      ]
    },
    {
      "cell_type": "code",
      "execution_count": 53,
      "metadata": {
        "id": "9HE7lB5W61gT"
      },
      "outputs": [
        {
          "data": {
            "text/plain": [
              "15"
            ]
          },
          "execution_count": 53,
          "metadata": {},
          "output_type": "execute_result"
        }
      ],
      "source": [
        "# Write code here\n",
        "string  = 'DataScienceAman'\n",
        "\n",
        "def string_length(s):\n",
        "    if s == \"\":\n",
        "        return 0\n",
        "    else:\n",
        "        return 1 + string_length(s[1:])\n",
        "string_length(string)"
      ]
    },
    {
      "cell_type": "markdown",
      "metadata": {
        "id": "iUDvc-jl6759"
      },
      "source": [
        "### **`Q-7:`** Write a function that accepts two numbers and returns their greatest common divisior. Without using any loop\n",
        "\n",
        "def gcd(int, int) => int\n",
        "\n",
        "```\n",
        "gcd(16,24) will give 8\n",
        "```"
      ]
    },
    {
      "cell_type": "code",
      "execution_count": 54,
      "metadata": {
        "id": "uMQnojHR7O2S"
      },
      "outputs": [
        {
          "data": {
            "text/plain": [
              "8"
            ]
          },
          "execution_count": 54,
          "metadata": {},
          "output_type": "execute_result"
        }
      ],
      "source": [
        "# Write code here\n",
        "def gcd(a, b):\n",
        "    if a == b:\n",
        "        return a\n",
        "    elif a>b:\n",
        "        return gcd(a-b, b)\n",
        "    else:\n",
        "        return gcd(b-a, a)\n",
        "gcd(16, 24)"
      ]
    },
    {
      "cell_type": "markdown",
      "metadata": {
        "id": "wFD35fva7Q_B"
      },
      "source": [
        " ### `Q-8:` String Edit Distance\n",
        "\n",
        " Use your recursive function to write a program that reads two strings from the\n",
        "user and displays the edit distance between them.\n",
        "\n",
        "*The edit distance between two strings is a measure of their similarity—the smaller the edit distance, the more similar the strings are with regard to the minimum number of insert, delete and substitute operations needed to transform one string into the other.*\n",
        "\n",
        "Consider the strings `kitten` and `sitting`. The first string can be transformed\n",
        "into the second string with the following operations:\n",
        "* Substitute the `k` with an `s`,\n",
        "* substitute the `e` with an `i`,\n",
        "* and insert a `g` at the end of the string.\n",
        "\n",
        "This is the smallest number of operations that can be performed to transform kitten into sitting. As a result, the edit distance is `3`.\n",
        "\n",
        "\n",
        "Write a recursive function that computes the edit distance between two strings.\n",
        "\n",
        "Use the following algorithm:\n",
        "\n",
        "```\n",
        "Let s and t be the strings\n",
        "    If the length of s is 0 then\n",
        "        Return the length of t\n",
        "    Else if the length of t is 0 then\n",
        "        Return the length of s\n",
        "    Else\n",
        "        Set cost to 0\n",
        "        If the last character in s does not equal the last character in t then\n",
        "            Set cost to 1\n",
        "        Set d1 equal to the edit distance between all characters except the last one in s, and all characters in t, plus 1\n",
        "        Set d2 equal to the edit distance between all characters in s, and all characters except the last one in t, plus 1\n",
        "\n",
        "        Set d3 equal to the edit distance between all characters except the last one in s, and all characters except the last one in t, plus cost\n",
        "        Return the minimum of d1, d2 and d3\n",
        "```\n",
        "\n",
        "\n",
        "\n"
      ]
    },
    {
      "cell_type": "code",
      "execution_count": null,
      "metadata": {
        "id": "zlNy_Q987QOX"
      },
      "outputs": [],
      "source": [
        "# write code here"
      ]
    },
    {
      "cell_type": "markdown",
      "metadata": {
        "id": "Hc9e-qES7iAK"
      },
      "source": [
        "###`Q-9:` Run-Length Encoding\n",
        "\n",
        "Run-length encoding is a simple data compression technique that can be effective when repeated values occur at adjacent positions within a list. Compression is achieved by replacing groups of repeated values with one copy of the value, followed by the number of times that the value should be repeated. For example, the list\n",
        "```\n",
        "[\"A\", \"A\", \"A\", \"A\", \"A\", \"A\", \"A\", \"A\", \"A\", \"A\", \"A\", \"A\", \"B\", \"B\", \"B\", \"B\", \"A\", \"A\", \"A\", \"A\", \"A\", \"A\", \"B\"]\n",
        "```\n",
        "would be compressed as `[\"A\", 12, \"B\", 4, \"A\", 6, \"B\", 1]`.\n",
        "\n",
        "Write a recursive function that implements the run-length compression technique\n",
        "described above. Your function will take a list or a string as its only parameter. It should return the run-length compressed list as its only result. Include a main program that reads a string from the user, compresses it, and displays the run-length encoded result."
      ]
    },
    {
      "cell_type": "code",
      "execution_count": null,
      "metadata": {
        "id": "W2Wb_WzP7qM1"
      },
      "outputs": [],
      "source": [
        "# Write code here"
      ]
    },
    {
      "cell_type": "markdown",
      "metadata": {
        "id": "x6A-4vGC8SLs"
      },
      "source": [
        "###`Q-10:` Write a recursive function to convert a decimal to binary"
      ]
    },
    {
      "cell_type": "code",
      "execution_count": null,
      "metadata": {
        "id": "izOr6D9V8aME"
      },
      "outputs": [],
      "source": [
        "# Write code here"
      ]
    }
  ],
  "metadata": {
    "colab": {
      "provenance": []
    },
    "kernelspec": {
      "display_name": "Python 3",
      "name": "python3"
    },
    "language_info": {
      "codemirror_mode": {
        "name": "ipython",
        "version": 3
      },
      "file_extension": ".py",
      "mimetype": "text/x-python",
      "name": "python",
      "nbconvert_exporter": "python",
      "pygments_lexer": "ipython3",
      "version": "3.12.2"
    }
  },
  "nbformat": 4,
  "nbformat_minor": 0
}
